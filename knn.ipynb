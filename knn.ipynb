{
 "cells": [
  {
   "cell_type": "code",
   "execution_count": 1,
   "metadata": {},
   "outputs": [],
   "source": [
    "from sklearn.datasets.samples_generator import make_blobs\n",
    "import numpy as np\n",
    "import matplotlib.pyplot as plt\n",
    "np.random.seed(6)\n",
    "import math\n",
    "from collections import Counter"
   ]
  },
  {
   "cell_type": "code",
   "execution_count": 2,
   "metadata": {},
   "outputs": [],
   "source": [
    "Num_smaples = 100\n",
    "Num_smaples_training = int(.9*Num_smaples)"
   ]
  },
  {
   "cell_type": "code",
   "execution_count": 3,
   "metadata": {},
   "outputs": [
    {
     "data": {
      "text/plain": [
       "10"
      ]
     },
     "execution_count": 3,
     "metadata": {},
     "output_type": "execute_result"
    }
   ],
   "source": [
    "(X,y) =  make_blobs(n_samples=Num_smaples,n_features=2,centers=2,cluster_std=1.95,random_state=50)\n",
    "X_train = X[0: Num_smaples_training]\n",
    "y_train = y[0:Num_smaples_training]\n",
    "\n",
    "\n",
    "X_validation = X[Num_smaples_training:]\n",
    "y_validation = y[Num_smaples_training:]\n",
    "\n",
    "len(X_validation)"
   ]
  },
  {
   "cell_type": "code",
   "execution_count": 4,
   "metadata": {},
   "outputs": [
    {
     "data": {
      "text/plain": [
       "array([[  2.29225964, -10.066572  ],\n",
       "       [ -2.62293912,   2.73212411],\n",
       "       [ -0.91182427,  -5.75173228],\n",
       "       [ -7.35483906,  -4.97351536],\n",
       "       [-10.35241781,  -2.03592362],\n",
       "       [ -5.21924189,  -2.45540472],\n",
       "       [ -2.05314291,  -2.32046674],\n",
       "       [ -0.80774103,  -4.70020891],\n",
       "       [  0.16411929,  -4.88167264],\n",
       "       [  1.27248878,  -4.47505774],\n",
       "       [  5.16728015,  -8.3465455 ],\n",
       "       [  1.22625287,  -7.71565724],\n",
       "       [ -1.70226211,  -1.42558587],\n",
       "       [  1.48258064,  -5.33790159],\n",
       "       [ -4.4194506 ,  -1.12536515],\n",
       "       [ -8.00379306,  -1.77030809],\n",
       "       [ -3.36180063,  -4.44473305],\n",
       "       [ -0.49611399,  -4.75499796],\n",
       "       [  1.56388873,  -8.37540702],\n",
       "       [ -0.81568275, -10.45163144],\n",
       "       [ -6.28045145,  -0.78553002],\n",
       "       [ -0.72165253,  -2.76043963],\n",
       "       [ -0.61135748,  -5.3463834 ],\n",
       "       [ -6.37300011,  -6.84059758],\n",
       "       [ -0.4987789 ,  -3.98941369],\n",
       "       [  2.8592743 ,  -7.9865461 ],\n",
       "       [ -1.84301528,  -5.42806582],\n",
       "       [ -1.9269314 ,  -3.78338059],\n",
       "       [ -0.876181  ,  -5.14951207],\n",
       "       [ -6.51622522,  -0.34736011],\n",
       "       [ -2.19420263,  -2.38404459],\n",
       "       [ -0.21044112,  -6.67518602],\n",
       "       [ -2.77748134,  -4.48980404],\n",
       "       [ -6.69108828,   0.3889277 ],\n",
       "       [ -5.52646802,  -2.82081625],\n",
       "       [ -6.4080393 ,  -3.11852691],\n",
       "       [ -1.32558056,  -4.70561762],\n",
       "       [  1.3478423 ,  -7.2784312 ],\n",
       "       [  1.25066999,  -6.09074002],\n",
       "       [ -6.7733846 ,   0.59878902],\n",
       "       [  1.36140019,  -4.72958195],\n",
       "       [ -4.73043194,  -1.94796301],\n",
       "       [  0.13839131,  -3.75706017],\n",
       "       [ -0.16863348, -12.86762415],\n",
       "       [  0.13948038,  -2.91103741],\n",
       "       [ -0.94074413,  -5.67474219],\n",
       "       [ -1.84532859,  -5.96609827],\n",
       "       [ -5.33074959,  -2.08668224],\n",
       "       [ -6.70485192,  -2.19932518],\n",
       "       [ -6.53757721,  -2.22315902],\n",
       "       [ -4.88741763,  -3.156707  ],\n",
       "       [ -1.6547395 ,  -5.51406693],\n",
       "       [ -5.99671459,  -4.15826073],\n",
       "       [  1.31265254,  -2.27593421],\n",
       "       [  6.35447983,  -3.51218551],\n",
       "       [ -6.13973459,  -1.24615205],\n",
       "       [ -3.50693302,  -1.45691042],\n",
       "       [  0.06190658,  -5.37151459],\n",
       "       [ -0.40001204,  -4.09223981],\n",
       "       [ -7.17949436,  -3.8962544 ],\n",
       "       [ -4.24421555,  -3.14124121],\n",
       "       [ -0.65642797,  -2.10206864],\n",
       "       [ -8.55143505,  -3.41025372],\n",
       "       [ -5.17086633,  -3.09848019],\n",
       "       [ -5.05693247,   1.38138911],\n",
       "       [ -5.2675406 ,  -1.49497311],\n",
       "       [ -5.92506926,  -0.43082789],\n",
       "       [  2.02769146,  -2.82844094],\n",
       "       [ -7.6676342 ,  -4.03516889],\n",
       "       [ -3.35735382,  -5.86537778],\n",
       "       [  1.46215154,  -8.53471335],\n",
       "       [ -5.21185432,  -4.57740017],\n",
       "       [ -8.22472012,  -5.16155649],\n",
       "       [ -0.0319017 ,  -5.85420795],\n",
       "       [ -4.8712274 ,  -2.21448264],\n",
       "       [  3.92038092,  -3.31706183],\n",
       "       [  0.13357211,  -3.98990639],\n",
       "       [ -1.62988206,  -3.35131583],\n",
       "       [ -5.1569877 ,  -5.14650993],\n",
       "       [ -7.03647653,  -4.33005401],\n",
       "       [ -5.97584965,  -3.47302038],\n",
       "       [ -5.91599196,  -1.75756117],\n",
       "       [ -7.4082546 ,  -0.62083646],\n",
       "       [ -2.60843765,  -8.02692177],\n",
       "       [  0.16018665,  -6.84096548],\n",
       "       [ -3.788729  ,  -1.96173539],\n",
       "       [ -3.47565325,  -2.47817585],\n",
       "       [  0.32540816,  -4.9473014 ],\n",
       "       [  2.76048617,  -6.57444588],\n",
       "       [ -0.42885004,  -4.89584905],\n",
       "       [ -4.79665713,  -4.78027239],\n",
       "       [  2.64532785,  -6.36796559],\n",
       "       [  0.39816003,  -2.22528747],\n",
       "       [  0.07918988,  -4.41519883],\n",
       "       [ -1.36483405,  -4.2402001 ],\n",
       "       [ -7.03559884,  -2.12798974],\n",
       "       [ -0.58723159,  -3.27750204],\n",
       "       [ -3.1932116 ,  -0.61290478],\n",
       "       [  1.58156141,  -6.48263229],\n",
       "       [ -4.50018713,  -0.4188091 ]])"
      ]
     },
     "execution_count": 4,
     "metadata": {},
     "output_type": "execute_result"
    }
   ],
   "source": [
    "X"
   ]
  },
  {
   "cell_type": "code",
   "execution_count": 5,
   "metadata": {},
   "outputs": [
    {
     "data": {
      "text/plain": [
       "array([0, 1, 0, 1, 1, 1, 0, 0, 0, 0, 0, 0, 1, 0, 1, 1, 1, 0, 0, 0, 1, 0,\n",
       "       0, 1, 0, 0, 0, 1, 0, 1, 1, 0, 0, 1, 1, 1, 0, 0, 0, 1, 0, 1, 0, 0,\n",
       "       1, 0, 0, 1, 1, 1, 1, 0, 1, 0, 0, 1, 1, 0, 0, 1, 1, 0, 1, 1, 1, 1,\n",
       "       1, 0, 1, 0, 0, 1, 1, 0, 1, 0, 0, 0, 1, 1, 1, 1, 1, 0, 0, 1, 1, 0,\n",
       "       0, 0, 1, 0, 1, 0, 1, 1, 0, 1, 0, 1])"
      ]
     },
     "execution_count": 5,
     "metadata": {},
     "output_type": "execute_result"
    }
   ],
   "source": [
    "y"
   ]
  },
  {
   "cell_type": "code",
   "execution_count": 6,
   "metadata": {},
   "outputs": [
    {
     "data": {
      "image/png": "[encoded data removed]",
      "text/plain": [
       "<Figure size 432x288 with 1 Axes>"
      ]
     },
     "metadata": {},
     "output_type": "display_data"
    }
   ],
   "source": [
    "plt.scatter(X_train[:,0],X_train[:,1],marker='o',c=y_train)\n",
    "plt.show()"
   ]
  },
  {
   "cell_type": "code",
   "execution_count": 7,
   "metadata": {},
   "outputs": [
    {
     "data": {
      "image/png": "[encoded data removed]",
      "text/plain": [
       "<Figure size 432x288 with 1 Axes>"
      ]
     },
     "metadata": {},
     "output_type": "display_data"
    }
   ],
   "source": [
    "prediction_points = X_validation\n",
    "prediction_points = np.array(prediction_points)\n",
    "\n",
    "plt.scatter(X_train[:,0],X_train[:,1],marker='o',c=y_train)\n",
    "plt.scatter(prediction_points[:,0],prediction_points[:,1],marker='o')\n",
    "plt.show()"
   ]
  },
  {
   "cell_type": "code",
   "execution_count": 8,
   "metadata": {},
   "outputs": [],
   "source": [
    "def get_eculidean_distance(point,k):\n",
    "    euc_distance = np.sqrt(np.sum((X_train - point)**2 , axis=1))\n",
    "    return np.argsort(euc_distance)[0:k]"
   ]
  },
  {
   "cell_type": "code",
   "execution_count": 9,
   "metadata": {},
   "outputs": [],
   "source": [
    "def predict(prediction_points,k):\n",
    "    points_labels=[]\n",
    "    \n",
    "    for point in prediction_points:\n",
    "        distances=get_eculidean_distance(point,k)\n",
    "        \n",
    "        results=[]\n",
    "        for index in distances:\n",
    "            results.append(y[index])\n",
    "        \n",
    "        label=Counter(results).most_common(1)\n",
    "        points_labels.append([point,label[0][0]])\n",
    "        \n",
    "    return points_labels"
   ]
  },
  {
   "cell_type": "code",
   "execution_count": 10,
   "metadata": {},
   "outputs": [],
   "source": [
    "#Calculating the accuracy\n",
    "def get_accuracy(predictions):\n",
    "    error=np.sum((predictions-y_validation)**2)\n",
    "    accuracy=100-(error/len(y_validation))*100\n",
    "    return accuracy"
   ]
  },
  {
   "cell_type": "code",
   "execution_count": 11,
   "metadata": {},
   "outputs": [],
   "source": [
    "#for different K values \n",
    "acc=[]\n",
    "for k in range(1,10):\n",
    "    results=predict(X_validation,k)\n",
    "    predictions=[]\n",
    "    for result in results:\n",
    "        predictions.append(result[1])\n",
    "    acc.append([get_accuracy(predictions),k])"
   ]
  },
  {
   "cell_type": "code",
   "execution_count": 12,
   "metadata": {},
   "outputs": [
    {
     "data": {
      "image/png": "[encoded data removed]",
      "text/plain": [
       "<Figure size 432x288 with 1 Axes>"
      ]
     },
     "metadata": {},
     "output_type": "display_data"
    }
   ],
   "source": [
    "plotx=[]\n",
    "ploty=[]\n",
    "for a in acc:\n",
    "    plotx.append(a[1])\n",
    "    ploty.append(a[0])\n",
    "    \n",
    "plt.plot(plotx,ploty)\n",
    "plt.xlabel(\"k values\")\n",
    "plt.ylabel(\"accuracy\")\n",
    "plt.show()"
   ]
  }
 ],
 "metadata": {
  "kernelspec": {
   "display_name": "Python 3",
   "language": "python",
   "name": "python3"
  },
  "language_info": {
   "codemirror_mode": {
    "name": "ipython",
    "version": 3
   },
   "file_extension": ".py",
   "mimetype": "text/x-python",
   "name": "python",
   "nbconvert_exporter": "python",
   "pygments_lexer": "ipython3",
   "version": "3.6.5"
  }
 },
 "nbformat": 4,
 "nbformat_minor": 2
}
